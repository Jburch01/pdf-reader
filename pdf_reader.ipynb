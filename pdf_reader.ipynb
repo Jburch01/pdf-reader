{
 "cells": [
  {
   "cell_type": "code",
   "execution_count": 31,
   "id": "837eb3a5-b239-40d7-83e1-490035c1be78",
   "metadata": {},
   "outputs": [],
   "source": [
    "import pandas as pd\n",
    "import numpy as np\n",
    "import tabula\n",
    "import re\n",
    "\n",
    "import os\n",
    "import glob\n",
    "import time\n",
    "from tkinter.filedialog import askdirectory"
   ]
  },
  {
   "cell_type": "code",
   "execution_count": 12,
   "id": "4bebd3a0-ebeb-4385-8267-8dd97f31e361",
   "metadata": {},
   "outputs": [
    {
     "name": "stdout",
     "output_type": "stream",
     "text": [
      "         Date     Invoice  Account  Total\n",
      "0  05/11/2023  6915077305  8003603  43.66\n",
      "/Users/joshburch/codeup-data-science/Web_Scraping/6915077305.pdf\n",
      "         Date     Invoice  Account   Total\n",
      "0  05/11/2023  6915075704  8003606  152.30\n",
      "/Users/joshburch/codeup-data-science/Web_Scraping/6915075704.pdf\n",
      "         Date     Invoice  Account   Total\n",
      "0  05/10/2023  6915070718  1246910  138.96\n",
      "/Users/joshburch/codeup-data-science/Web_Scraping/6915070718.pdf\n"
     ]
    }
   ],
   "source": [
    "current_directory = os.getcwd()\n",
    "pdf_files = glob.glob(f'{current_directory}/*.pdf')\n",
    "area = [0, 0, 1000, 1000]\n",
    "\n",
    "for pdf_file in pdf_files:  \n",
    "    dfs = tabula.read_pdf(pdf_file, area=area, pages='all')\n",
    "\n",
    "    df = pd.concat(dfs)\n",
    "    df.fillna('', inplace=True)\n",
    "\n",
    "    invoice_mask = df['Unnamed: 0'].str.contains('Invoice No. / Date')\n",
    "    date_index = df[invoice_mask].index.values[0]\n",
    "    invoice_date = df.loc[date_index, 'Invoice']\n",
    "    invoice_reg = r'\\d+[^ ]*'\n",
    "\n",
    "    invoice_num = re.findall(invoice_reg, invoice_date)[0]\n",
    "    date = re.findall(invoice_reg, invoice_date)[1]\n",
    "\n",
    "    acc_mask = df['Unnamed: 0'].str.contains(' Purchase Order No.')\n",
    "    acc_index = df[acc_mask].index.values[0] \n",
    "    acc_num = df.loc[acc_index, 'Invoice']\n",
    "    acc_reg = r'(?<=\\s)\\d+'\n",
    "    acc_num = re.findall(acc_reg, acc_num)[0]\n",
    "\n",
    "    total_mask = df[\"Invoice\"].str.contains('Qty Total Curr.')\n",
    "    start = df[total_mask].index.values[0]\n",
    "    total = df.loc[start + 1, 'Invoice']\n",
    "    total_reg = r\"(?<=\\$)\\d+\\.\\d+\"\n",
    "    total = re.findall(total_reg, total)[0]\n",
    "\n",
    "    data = {\n",
    "        'Date': date,\n",
    "        'Invoice': invoice_num,\n",
    "        'Account': acc_num,\n",
    "        'Total': total\n",
    "    }\n",
    "\n",
    "    df1 = pd.DataFrame(data, index=['0'])\n",
    "\n",
    "    df1.to_excel(f'{df1.Account[0]}.xlsx', index=False)\n",
    "    print(pdf_file)\n"
   ]
  },
  {
   "cell_type": "code",
   "execution_count": 12,
   "id": "636d6a65-a39e-4af6-880f-d9cabc4cf566",
   "metadata": {},
   "outputs": [
    {
     "name": "stdout",
     "output_type": "stream",
     "text": [
      "         Date     Invoice  Account  Total\n",
      "0  05/11/2023  6915077305  8003603  43.66\n",
      "/Users/joshburch/codeup-data-science/Web_Scraping/6915077305.pdf\n",
      "         Date     Invoice  Account   Total\n",
      "0  05/11/2023  6915075704  8003606  152.30\n",
      "/Users/joshburch/codeup-data-science/Web_Scraping/6915075704.pdf\n",
      "         Date     Invoice  Account   Total\n",
      "0  05/10/2023  6915070718  1246910  138.96\n",
      "/Users/joshburch/codeup-data-science/Web_Scraping/6915070718.pdf\n"
     ]
    }
   ],
   "source": [
    "current_directory = os.getcwd()\n",
    "pdf_files = glob.glob(f'{current_directory}/*.pdf')\n",
    "area = [0, 0, 1000, 1000]\n",
    "\n",
    "for pdf_file in pdf_files:  \n",
    "    dfs = tabula.read_pdf(pdf_file, area=area, pages='all')\n",
    "\n",
    "    df = pd.concat(dfs)\n",
    "    df.fillna('', inplace=True)\n",
    "\n",
    "    invoice_mask = df['Unnamed: 0'].str.contains('Invoice No. / Date')\n",
    "    date_index = df[invoice_mask].index.values[0]\n",
    "    invoice_date = df.loc[date_index, 'Invoice']\n",
    "    invoice_reg = r'\\d+[^ ]*'\n",
    "\n",
    "    invoice_num = re.findall(invoice_reg, invoice_date)[0]\n",
    "    date = re.findall(invoice_reg, invoice_date)[1]\n",
    "\n",
    "    acc_mask = df['Unnamed: 0'].str.contains(' Purchase Order No.')\n",
    "    acc_index = df[acc_mask].index.values[0] \n",
    "    acc_num = df.loc[acc_index, 'Invoice']\n",
    "    acc_reg = r'(?<=\\s)\\d+'\n",
    "    acc_num = re.findall(acc_reg, acc_num)[0]\n",
    "\n",
    "    total_mask = df[\"Invoice\"].str.contains('Qty Total Curr.')\n",
    "    start = df[total_mask].index.values[0]\n",
    "    total = df.loc[start + 1, 'Invoice']\n",
    "    total_reg = r\"(?<=\\$)\\d+\\.\\d+\"\n",
    "    total = re.findall(total_reg, total)[0]\n",
    "\n",
    "    data = {\n",
    "        'Date': date,\n",
    "        'Invoice': invoice_num,\n",
    "        'Account': acc_num,\n",
    "        'Total': total\n",
    "    }\n",
    "\n",
    "    df1 = pd.DataFrame(data, index=['0'])\n",
    "\n",
    "    df1.to_excel(f'{df1.Account[0]}.xlsx', index=False)\n",
    "    print(pdf_file)\n"
   ]
  },
  {
   "cell_type": "code",
   "execution_count": 11,
   "id": "42d766ad-1fe1-4296-a1e6-fd29327205cc",
   "metadata": {},
   "outputs": [
    {
     "data": {
      "text/html": [
       "<div>\n",
       "<style scoped>\n",
       "    .dataframe tbody tr th:only-of-type {\n",
       "        vertical-align: middle;\n",
       "    }\n",
       "\n",
       "    .dataframe tbody tr th {\n",
       "        vertical-align: top;\n",
       "    }\n",
       "\n",
       "    .dataframe thead th {\n",
       "        text-align: right;\n",
       "    }\n",
       "</style>\n",
       "<table border=\"1\" class=\"dataframe\">\n",
       "  <thead>\n",
       "    <tr style=\"text-align: right;\">\n",
       "      <th></th>\n",
       "      <th>Date</th>\n",
       "      <th>Invoice</th>\n",
       "      <th>Account</th>\n",
       "      <th>Total</th>\n",
       "    </tr>\n",
       "  </thead>\n",
       "  <tbody>\n",
       "    <tr>\n",
       "      <th>0</th>\n",
       "      <td>05/10/2023</td>\n",
       "      <td>6915070718</td>\n",
       "      <td>1246910</td>\n",
       "      <td>138.96</td>\n",
       "    </tr>\n",
       "  </tbody>\n",
       "</table>\n",
       "</div>"
      ],
      "text/plain": [
       "         Date     Invoice  Account   Total\n",
       "0  05/10/2023  6915070718  1246910  138.96"
      ]
     },
     "execution_count": 11,
     "metadata": {},
     "output_type": "execute_result"
    }
   ],
   "source": [
    "df1"
   ]
  },
  {
   "cell_type": "code",
   "execution_count": null,
   "id": "a3b97217-e649-4402-9f49-9f52443db44f",
   "metadata": {},
   "outputs": [],
   "source": []
  },
  {
   "cell_type": "code",
   "execution_count": 29,
   "id": "29833da8-91a7-430e-9c34-c04d01b32f93",
   "metadata": {},
   "outputs": [],
   "source": [
    "def read_pdfs():\n",
    "    input_directory = askdirectory()\n",
    "    pdf_files = glob.glob(f'{input_directory}/*.pdf')\n",
    "    area = [0, 0, 1000, 1000]\n",
    "\n",
    "    for pdf_file in pdf_files:  \n",
    "        dfs = tabula.read_pdf(pdf_file, area=area, pages='all')\n",
    "\n",
    "        df = pd.concat(dfs)\n",
    "        df.fillna('', inplace=True)\n",
    "\n",
    "        invoice_mask = df['Unnamed: 0'].str.contains('Invoice No. / Date')\n",
    "        date_index = df[invoice_mask].index.values[0]\n",
    "        invoice_date = df.loc[date_index, 'Invoice']\n",
    "        invoice_reg = r'\\d+[^ ]*'\n",
    "\n",
    "        invoice_num = re.findall(invoice_reg, invoice_date)[0]\n",
    "        date = re.findall(invoice_reg, invoice_date)[1]\n",
    "\n",
    "        acc_mask = df['Unnamed: 0'].str.contains(' Purchase Order No.')\n",
    "        acc_index = df[acc_mask].index.values[0] \n",
    "        acc_num = df.loc[acc_index, 'Invoice']\n",
    "        acc_reg = r'(?<=\\s)\\d+'\n",
    "        acc_num = re.findall(acc_reg, acc_num)[0]\n",
    "\n",
    "        total_mask = df[\"Invoice\"].str.contains('Qty Total Curr.')\n",
    "        start = df[total_mask].index.values[0]\n",
    "        total = df.loc[start + 1, 'Invoice']\n",
    "        total_reg = r\"(?<=\\$)\\d+\\.\\d+\"\n",
    "        total = re.findall(total_reg, total)[0]\n",
    "\n",
    "        data = {\n",
    "            'Date': date,\n",
    "            'Invoice': invoice_num,\n",
    "            'Account': acc_num,\n",
    "            'Total': total,\n",
    "            'file' : pdf_file\n",
    "        }\n",
    "        df1 = pd.DataFrame(data, index=['0'])\n",
    "        \n",
    "        try:\n",
    "            df2 = pd.read_excel(f'{acc_num}.xlsx')\n",
    "            df3 = pd.concat([df2, df1], ignore_index=True)\n",
    "            df3.to_excel(f'{df1.Account[0]}.xlsx', index=False)\n",
    "        except FileNotFoundError:\n",
    "            df1.to_excel(f'{df1.Account[0]}.xlsx', index=False)"
   ]
  },
  {
   "cell_type": "code",
   "execution_count": 30,
   "id": "03b93e5d-f4f9-4c66-b750-072ea8d50fd3",
   "metadata": {},
   "outputs": [],
   "source": [
    "read_pdfs()"
   ]
  },
  {
   "cell_type": "code",
   "execution_count": 23,
   "id": "ce8270eb-6312-4cf4-a3ef-89ba28995116",
   "metadata": {},
   "outputs": [
    {
     "data": {
      "text/html": [
       "<div>\n",
       "<style scoped>\n",
       "    .dataframe tbody tr th:only-of-type {\n",
       "        vertical-align: middle;\n",
       "    }\n",
       "\n",
       "    .dataframe tbody tr th {\n",
       "        vertical-align: top;\n",
       "    }\n",
       "\n",
       "    .dataframe thead th {\n",
       "        text-align: right;\n",
       "    }\n",
       "</style>\n",
       "<table border=\"1\" class=\"dataframe\">\n",
       "  <thead>\n",
       "    <tr style=\"text-align: right;\">\n",
       "      <th></th>\n",
       "      <th>Date</th>\n",
       "      <th>Invoice</th>\n",
       "      <th>Account</th>\n",
       "      <th>Total</th>\n",
       "    </tr>\n",
       "  </thead>\n",
       "  <tbody>\n",
       "    <tr>\n",
       "      <th>0</th>\n",
       "      <td>05/10/2023</td>\n",
       "      <td>6915070718</td>\n",
       "      <td>1246910</td>\n",
       "      <td>138.96</td>\n",
       "    </tr>\n",
       "  </tbody>\n",
       "</table>\n",
       "</div>"
      ],
      "text/plain": [
       "         Date     Invoice  Account   Total\n",
       "0  05/10/2023  6915070718  1246910  138.96"
      ]
     },
     "execution_count": 23,
     "metadata": {},
     "output_type": "execute_result"
    }
   ],
   "source": [
    "pd.read_excel(f'1246910.xlsx')"
   ]
  },
  {
   "cell_type": "code",
   "execution_count": 33,
   "id": "e999c04a-779c-4339-863b-a418895a74f5",
   "metadata": {},
   "outputs": [
    {
     "name": "stderr",
     "output_type": "stream",
     "text": [
      "2023-07-02 08:47:05.281 python[43041:15407361] +[CATransaction synchronize] called within transaction\n",
      "2023-07-02 08:47:05.286 python[43041:15407361] +[CATransaction synchronize] called within transaction\n",
      "2023-07-02 08:47:05.302 python[43041:15407361] +[CATransaction synchronize] called within transaction\n",
      "2023-07-02 08:47:05.342 python[43041:15407361] +[CATransaction synchronize] called within transaction\n",
      "2023-07-02 08:47:05.350 python[43041:15407361] +[CATransaction synchronize] called within transaction\n",
      "2023-07-02 08:47:08.409 python[43041:15407361] +[CATransaction synchronize] called within transaction\n"
     ]
    }
   ],
   "source": [
    "ask = askdirectory()"
   ]
  },
  {
   "cell_type": "code",
   "execution_count": 34,
   "id": "4aaa9eb1-a7b8-40c3-91c2-a59325548b81",
   "metadata": {},
   "outputs": [
    {
     "data": {
      "text/plain": [
       "'/Users/joshburch/Desktop/output'"
      ]
     },
     "execution_count": 34,
     "metadata": {},
     "output_type": "execute_result"
    }
   ],
   "source": [
    "ask"
   ]
  },
  {
   "cell_type": "code",
   "execution_count": 22,
   "id": "df30d076-41aa-4214-9a80-a7671b2b2f12",
   "metadata": {},
   "outputs": [
    {
     "data": {
      "text/plain": [
       "['/Users/joshburch/codeup-data-science/Web_Scraping/6915077305.pdf',\n",
       " '/Users/joshburch/codeup-data-science/Web_Scraping/6915075704.pdf',\n",
       " '/Users/joshburch/codeup-data-science/Web_Scraping/6915070718.pdf']"
      ]
     },
     "execution_count": 22,
     "metadata": {},
     "output_type": "execute_result"
    }
   ],
   "source": [
    "pdf_files"
   ]
  },
  {
   "cell_type": "code",
   "execution_count": null,
   "id": "84b3b8c5-3611-4f91-8a44-a14ddae0086c",
   "metadata": {},
   "outputs": [],
   "source": []
  },
  {
   "cell_type": "code",
   "execution_count": null,
   "id": "7c6fdfcd-cea7-4c8a-b971-facdb08062e3",
   "metadata": {},
   "outputs": [],
   "source": []
  },
  {
   "cell_type": "code",
   "execution_count": null,
   "id": "9ac2622b-c39f-4ece-998d-bdae7dd56ede",
   "metadata": {},
   "outputs": [],
   "source": []
  }
 ],
 "metadata": {
  "kernelspec": {
   "display_name": "Python 3 (ipykernel)",
   "language": "python",
   "name": "python3"
  },
  "language_info": {
   "codemirror_mode": {
    "name": "ipython",
    "version": 3
   },
   "file_extension": ".py",
   "mimetype": "text/x-python",
   "name": "python",
   "nbconvert_exporter": "python",
   "pygments_lexer": "ipython3",
   "version": "3.9.13"
  }
 },
 "nbformat": 4,
 "nbformat_minor": 5
}
